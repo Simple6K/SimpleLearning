{
 "cells": [
  {
   "cell_type": "code",
   "execution_count": 8,
   "metadata": {},
   "outputs": [],
   "source": [
    "import tensorflow as tf\n",
    "import numpy as np\n",
    "rng = np.random"
   ]
  },
  {
   "cell_type": "code",
   "execution_count": 11,
   "metadata": {},
   "outputs": [],
   "source": [
    "learningRate = 0.01\n",
    "training_steps = 100\n",
    "displayStep = 5"
   ]
  },
  {
   "cell_type": "code",
   "execution_count": 4,
   "metadata": {},
   "outputs": [],
   "source": [
    "X = np.array([3.3,4.4,5.5,6.71,6.93,4.168,9.779,6.182,7.59,2.167,\n",
    "              7.042,10.791,5.313,7.997,5.654,9.27,3.1])\n",
    "Y = np.array([1.7,2.76,2.09,3.19,1.694,1.573,3.366,2.596,2.53,1.221,\n",
    "              2.827,3.465,1.65,2.904,2.42,2.94,1.3])\n",
    "n_samples = X.shape[0]"
   ]
  },
  {
   "cell_type": "code",
   "execution_count": 6,
   "metadata": {},
   "outputs": [
    {
     "data": {
      "text/plain": [
       "17"
      ]
     },
     "execution_count": 6,
     "metadata": {},
     "output_type": "execute_result"
    }
   ],
   "source": [
    "n_samples"
   ]
  },
  {
   "cell_type": "code",
   "execution_count": 9,
   "metadata": {},
   "outputs": [],
   "source": [
    "# 定义两个变量\n",
    "W = tf.Variable(rng.randn(),name='W')\n",
    "b = tf.Variable(rng.randn(),name='b')"
   ]
  },
  {
   "cell_type": "code",
   "execution_count": 13,
   "metadata": {},
   "outputs": [],
   "source": [
    "def linear_regression(x):\n",
    "    return W*x + b\n",
    "def mean_square(y_pred,y_true):\n",
    "    return tf.reduce_sum(tf.pow(y_pred-y_true, 2)) / (2 * n_samples)\n",
    "# 优化器，选用随机梯度下贱,学习率为0.01\n",
    "optimizer = tf.optimizers.SGD(learning_rate=learningRate)"
   ]
  },
  {
   "cell_type": "code",
   "execution_count": 20,
   "metadata": {},
   "outputs": [],
   "source": [
    "def run_optimization():\n",
    "    with tf.GradientTape() as g:\n",
    "        # gradientTape运行完成后会释放掉内存\n",
    "        pred = linear_regression(X)\n",
    "        loss = mean_square(pred,Y)\n",
    "    # 设置梯度对应的权重   \n",
    "    gradients = g.gradient(loss,[W,b])\n",
    "    # 计算梯度并更新相关权重\n",
    "    optimizer.apply_gradients(zip(gradients,[W,b]))\n",
    "    "
   ]
  },
  {
   "cell_type": "code",
   "execution_count": 38,
   "metadata": {},
   "outputs": [
    {
     "name": "stdout",
     "output_type": "stream",
     "text": [
      "step: 5, loss: 0.079026, W: 0.277597, b: 0.614739\n",
      "step: 10, loss: 0.079001, W: 0.277440, b: 0.615853\n",
      "step: 15, loss: 0.078976, W: 0.277284, b: 0.616961\n",
      "step: 20, loss: 0.078951, W: 0.277129, b: 0.618062\n",
      "step: 25, loss: 0.078926, W: 0.276974, b: 0.619156\n",
      "step: 30, loss: 0.078902, W: 0.276821, b: 0.620244\n",
      "step: 35, loss: 0.078879, W: 0.276668, b: 0.621325\n",
      "step: 40, loss: 0.078855, W: 0.276517, b: 0.622399\n",
      "step: 45, loss: 0.078832, W: 0.276366, b: 0.623467\n",
      "step: 50, loss: 0.078809, W: 0.276217, b: 0.624529\n",
      "step: 55, loss: 0.078786, W: 0.276068, b: 0.625584\n",
      "step: 60, loss: 0.078764, W: 0.275920, b: 0.626633\n",
      "step: 65, loss: 0.078741, W: 0.275773, b: 0.627675\n",
      "step: 70, loss: 0.078720, W: 0.275627, b: 0.628711\n",
      "step: 75, loss: 0.078698, W: 0.275481, b: 0.629741\n",
      "step: 80, loss: 0.078677, W: 0.275337, b: 0.630764\n",
      "step: 85, loss: 0.078656, W: 0.275193, b: 0.631782\n",
      "step: 90, loss: 0.078635, W: 0.275051, b: 0.632793\n",
      "step: 95, loss: 0.078614, W: 0.274909, b: 0.633798\n",
      "step: 100, loss: 0.078594, W: 0.274768, b: 0.634797\n"
     ]
    }
   ],
   "source": [
    "for step in range(1,training_steps+1):\n",
    "    run_optimization()\n",
    "    pred = linear_regression(X)\n",
    "    loss = mean_square(pred,Y)\n",
    "    if step % displayStep == 0:\n",
    "        pred = linear_regression(X)\n",
    "        loss = mean_square(pred, Y)\n",
    "        print(\"step: %i, loss: %f, W: %f, b: %f\" % (step, loss, W.numpy(), b.numpy()))"
   ]
  },
  {
   "cell_type": "code",
   "execution_count": 40,
   "metadata": {},
   "outputs": [
    {
     "data": {
      "image/png": "[encoded data removed]",
      "text/plain": [
       "<Figure size 432x288 with 1 Axes>"
      ]
     },
     "metadata": {
      "needs_background": "light"
     },
     "output_type": "display_data"
    }
   ],
   "source": [
    "import matplotlib.pyplot as plt\n",
    "\n",
    "plt.plot(X, Y, 'ro', label='Original data')\n",
    "plt.plot(X, np.array(W * X + b), label='Fitted line')\n",
    "plt.legend()\n",
    "plt.show()"
   ]
  },
  {
   "cell_type": "code",
   "execution_count": null,
   "metadata": {},
   "outputs": [],
   "source": []
  }
 ],
 "metadata": {
  "kernelspec": {
   "display_name": "wjx_env",
   "language": "python",
   "name": "wjx_env"
  },
  "language_info": {
   "codemirror_mode": {
    "name": "ipython",
    "version": 3
   },
   "file_extension": ".py",
   "mimetype": "text/x-python",
   "name": "python",
   "nbconvert_exporter": "python",
   "pygments_lexer": "ipython3",
   "version": "3.6.8"
  }
 },
 "nbformat": 4,
 "nbformat_minor": 2
}
